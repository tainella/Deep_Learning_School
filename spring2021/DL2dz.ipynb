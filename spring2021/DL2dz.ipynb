{
 "cells": [
  {
   "cell_type": "code",
   "execution_count": 118,
   "metadata": {},
   "outputs": [],
   "source": [
    "#Практика работы с numpy\n"
   ]
  },
  {
   "cell_type": "code",
   "execution_count": null,
   "metadata": {},
   "outputs": [],
   "source": [
    "import numpy as np"
   ]
  },
  {
   "cell_type": "code",
   "execution_count": 39,
   "metadata": {},
   "outputs": [
    {
     "data": {
      "text/plain": [
       "['T',\n",
       " '__abs__',\n",
       " '__add__',\n",
       " '__and__',\n",
       " '__array__',\n",
       " '__array_finalize__',\n",
       " '__array_function__',\n",
       " '__array_interface__',\n",
       " '__array_prepare__',\n",
       " '__array_priority__',\n",
       " '__array_struct__',\n",
       " '__array_ufunc__',\n",
       " '__array_wrap__',\n",
       " '__bool__',\n",
       " '__class__',\n",
       " '__complex__',\n",
       " '__contains__',\n",
       " '__copy__',\n",
       " '__deepcopy__',\n",
       " '__delattr__',\n",
       " '__delitem__',\n",
       " '__dir__',\n",
       " '__divmod__',\n",
       " '__doc__',\n",
       " '__eq__',\n",
       " '__float__',\n",
       " '__floordiv__',\n",
       " '__format__',\n",
       " '__ge__',\n",
       " '__getattribute__',\n",
       " '__getitem__',\n",
       " '__gt__',\n",
       " '__hash__',\n",
       " '__iadd__',\n",
       " '__iand__',\n",
       " '__ifloordiv__',\n",
       " '__ilshift__',\n",
       " '__imatmul__',\n",
       " '__imod__',\n",
       " '__imul__',\n",
       " '__index__',\n",
       " '__init__',\n",
       " '__init_subclass__',\n",
       " '__int__',\n",
       " '__invert__',\n",
       " '__ior__',\n",
       " '__ipow__',\n",
       " '__irshift__',\n",
       " '__isub__',\n",
       " '__iter__',\n",
       " '__itruediv__',\n",
       " '__ixor__',\n",
       " '__le__',\n",
       " '__len__',\n",
       " '__lshift__',\n",
       " '__lt__',\n",
       " '__matmul__',\n",
       " '__mod__',\n",
       " '__mul__',\n",
       " '__ne__',\n",
       " '__neg__',\n",
       " '__new__',\n",
       " '__or__',\n",
       " '__pos__',\n",
       " '__pow__',\n",
       " '__radd__',\n",
       " '__rand__',\n",
       " '__rdivmod__',\n",
       " '__reduce__',\n",
       " '__reduce_ex__',\n",
       " '__repr__',\n",
       " '__rfloordiv__',\n",
       " '__rlshift__',\n",
       " '__rmatmul__',\n",
       " '__rmod__',\n",
       " '__rmul__',\n",
       " '__ror__',\n",
       " '__rpow__',\n",
       " '__rrshift__',\n",
       " '__rshift__',\n",
       " '__rsub__',\n",
       " '__rtruediv__',\n",
       " '__rxor__',\n",
       " '__setattr__',\n",
       " '__setitem__',\n",
       " '__setstate__',\n",
       " '__sizeof__',\n",
       " '__str__',\n",
       " '__sub__',\n",
       " '__subclasshook__',\n",
       " '__truediv__',\n",
       " '__xor__',\n",
       " 'all',\n",
       " 'any',\n",
       " 'argmax',\n",
       " 'argmin',\n",
       " 'argpartition',\n",
       " 'argsort',\n",
       " 'astype',\n",
       " 'base',\n",
       " 'byteswap',\n",
       " 'choose',\n",
       " 'clip',\n",
       " 'compress',\n",
       " 'conj',\n",
       " 'conjugate',\n",
       " 'copy',\n",
       " 'ctypes',\n",
       " 'cumprod',\n",
       " 'cumsum',\n",
       " 'data',\n",
       " 'diagonal',\n",
       " 'dot',\n",
       " 'dtype',\n",
       " 'dump',\n",
       " 'dumps',\n",
       " 'fill',\n",
       " 'flags',\n",
       " 'flat',\n",
       " 'flatten',\n",
       " 'getfield',\n",
       " 'imag',\n",
       " 'item',\n",
       " 'itemset',\n",
       " 'itemsize',\n",
       " 'max',\n",
       " 'mean',\n",
       " 'min',\n",
       " 'nbytes',\n",
       " 'ndim',\n",
       " 'newbyteorder',\n",
       " 'nonzero',\n",
       " 'partition',\n",
       " 'prod',\n",
       " 'ptp',\n",
       " 'put',\n",
       " 'ravel',\n",
       " 'real',\n",
       " 'repeat',\n",
       " 'reshape',\n",
       " 'resize',\n",
       " 'round',\n",
       " 'searchsorted',\n",
       " 'setfield',\n",
       " 'setflags',\n",
       " 'shape',\n",
       " 'size',\n",
       " 'sort',\n",
       " 'squeeze',\n",
       " 'std',\n",
       " 'strides',\n",
       " 'sum',\n",
       " 'swapaxes',\n",
       " 'take',\n",
       " 'tobytes',\n",
       " 'tofile',\n",
       " 'tolist',\n",
       " 'tostring',\n",
       " 'trace',\n",
       " 'transpose',\n",
       " 'var',\n",
       " 'view']"
      ]
     },
     "execution_count": 39,
     "metadata": {},
     "output_type": "execute_result"
    }
   ],
   "source": [
    "b = np.array(list(range(20)))\n",
    "dir(b)"
   ]
  },
  {
   "cell_type": "code",
   "execution_count": 44,
   "metadata": {},
   "outputs": [
    {
     "data": {
      "text/plain": [
       "70"
      ]
     },
     "execution_count": 44,
     "metadata": {},
     "output_type": "execute_result"
    }
   ],
   "source": [
    "a = np.array([10, 20, 40], int)\n",
    "b = np.array([-1, 0, 2], int)\n",
    "np.dot(a,b)"
   ]
  },
  {
   "cell_type": "code",
   "execution_count": 47,
   "metadata": {},
   "outputs": [
    {
     "name": "stdout",
     "output_type": "stream",
     "text": [
      "-8\n"
     ]
    }
   ],
   "source": [
    "a = np.array([[5, 1, -2, 0],[0, 3, 4, 3],[2, 3, 1, 1]])\n",
    "b = np.array([[1, -3], [2, -2], [3, -1], [0,0]])\n",
    "print((a@b).sum())\n"
   ]
  },
  {
   "cell_type": "code",
   "execution_count": 83,
   "metadata": {},
   "outputs": [
    {
     "name": "stdout",
     "output_type": "stream",
     "text": [
      "[[1, -15], [18, -10], [11, -13]]\n",
      "\n",
      "\n",
      "[[  1 -15]\n",
      " [ 18 -10]\n",
      " [ 11 -13]]\n"
     ]
    }
   ],
   "source": [
    "#Перемножение матриц\n",
    "#Напишите две функции, каждая из которых перемножает две квадратные матрицы: одна без использования встроенных функций numpy, а другая --- с помощью numpy.\n",
    "import numpy as np\n",
    "\n",
    "def no_numpy_mult(first, second):\n",
    "    \"\"\"\n",
    "    param first: list of \"size\" lists, each contains \"size\" floats\n",
    "    param first: list of \"size\" lists, each contains \"size\" floats\n",
    "    \"\"\"\n",
    "    result = []\n",
    "    for t in range(len(first)):\n",
    "        a = []\n",
    "        for i in range(len(second[0])):\n",
    "            b = [second[j][i] for j in range(len(second))]\n",
    "            a.append(sum([l*m for l, m in zip(first[t], b)]))\n",
    "            #print(a)\n",
    "        result.append(a)\n",
    "    return result\n",
    "\n",
    "def numpy_mult(first, second):\n",
    "    \"\"\"\n",
    "    param first: np.array[size, size]\n",
    "    param second: np.array[size, size]\n",
    "    \"\"\"\n",
    "    result = first@second\n",
    "    return result\n",
    "\n",
    "print(no_numpy_mult(list([[5, 1, -2, 0],[0, 3, 4, 3],[2, 3, 1, 1]]), list([[1, -3], [2, -2], [3, -1], [0,0]])))\n",
    "print('\\n')\n",
    "print(numpy_mult(np.array([[5, 1, -2, 0],[0, 3, 4, 3],[2, 3, 1, 1]]), np.array([[1, -3], [2, -2], [3, -1], [0,0]])))"
   ]
  },
  {
   "cell_type": "code",
   "execution_count": 84,
   "metadata": {},
   "outputs": [
    {
     "name": "stdout",
     "output_type": "stream",
     "text": [
      "182\n",
      "\n",
      "\n",
      "182\n"
     ]
    }
   ],
   "source": [
    "#Вам подаются на вход два вектора a и b в трехмерном пространстве. \n",
    "#Реализуйте их скалярное произведение с помощью numpy и без. \n",
    "\n",
    "import numpy as np\n",
    "\n",
    "def no_numpy_scalar(v1, v2):\n",
    "    #param v1, v2: lists of 3 ints\n",
    "    result = sum([x*y for x, y in zip(v1,v2)])\n",
    "    return result\n",
    "\n",
    "def numpy_scalar (v1, v2):\n",
    "    #param v1, v2: np.arrays[3]\n",
    "    result = np.dot(v1,v2)\n",
    "    return result\n",
    "\n",
    "print(no_numpy_scalar([1, -15, 2], [18, -10, 7]))\n",
    "print('\\n')\n",
    "print(numpy_scalar([1, -15, 2], [18, -10, 7]))"
   ]
  },
  {
   "cell_type": "code",
   "execution_count": 110,
   "metadata": {},
   "outputs": [
    {
     "name": "stdout",
     "output_type": "stream",
     "text": [
      "2\n"
     ]
    }
   ],
   "source": [
    "#Напишите функцию, которая находит сумму четных элементов на главной диагонали квадратной матрицы (именно чётных элементов, а не элементов на чётных позициях!)\n",
    "#Если чётных элементов нет, то вывести 0. Используйте библиотеку numpy.\n",
    "\n",
    "import numpy as np #не стирать!        \n",
    "\n",
    "def diag_2k(a):\n",
    "    result = sum(filter(lambda x : x % 2 == 0, np.diag(a)))\n",
    "    #result = np.diag(a)[np.diag(a)%2==0].sum()\n",
    "    #тоже работает\n",
    "    return result\n",
    "\n",
    "print(diag_2k(np.array([[2, 1, -2, 0],[0, 2, 4, 3],[2, 3, -2, 1], [2, 3, 2, 0]])))"
   ]
  },
  {
   "cell_type": "code",
   "execution_count": 116,
   "metadata": {},
   "outputs": [
    {
     "name": "stdout",
     "output_type": "stream",
     "text": [
      "[[2 3 1 1]\n",
      " [0 2 6 9]\n",
      " [2 5 3 4]\n",
      " [2 5 7 7]]\n"
     ]
    }
   ],
   "source": [
    "#\n",
    "\n",
    "import numpy as np\n",
    "\n",
    "def cumsum(A):\n",
    "    #param A: np.array[m,n]\n",
    "    result = np.cumsum(A, axis=1)\n",
    "    return result\n",
    "\n",
    "print(cumsum(np.array([[2, 1, -2, 0],[0, 2, 4, 3],[2, 3, -2, 1], [2, 3, 2, 0]])))"
   ]
  },
  {
   "cell_type": "code",
   "execution_count": 161,
   "metadata": {},
   "outputs": [
    {
     "data": {
      "text/plain": [
       "array([[      100,       200,       300,       400,       500, 125000000,\n",
       "                0,  27000000,         0,   1000000]])"
      ]
     },
     "execution_count": 161,
     "metadata": {},
     "output_type": "execute_result"
    }
   ],
   "source": [
    "import numpy as np\n",
    "def change(i, a):\n",
    "    i[1::2] = a\n",
    "    i[0::2] **= 3\n",
    "    return i[::-1]\n",
    "\n",
    "def transform(X, a=1):\n",
    "    y = X.copy()\n",
    "    result = np.array([change(i, a) for i in y])\n",
    "    return np.array(([np.hstack((X[i], result[i])) for i in range(len(X))]))\n",
    "\n",
    "transform(np.array([[100,200,300,400,500]]), 0)"
   ]
  },
  {
   "cell_type": "code",
   "execution_count": 162,
   "metadata": {},
   "outputs": [
    {
     "data": {
      "text/plain": [
       "(array([1, 2, 3, 1, 5, 2, 3]), array([1, 2, 2, 2, 2, 1, 2]))"
      ]
     },
     "execution_count": 162,
     "metadata": {},
     "output_type": "execute_result"
    }
   ],
   "source": [
    "import numpy as np\n",
    "\n",
    "def encode(a):\n",
    "    occur = []\n",
    "    result = []\n",
    "    i = 0\n",
    "    while i < len(a):\n",
    "        cnt = 0\n",
    "        j = i\n",
    "        while j < len(a) and a[j] == a[i]:\n",
    "            j += 1\n",
    "            cnt +=1\n",
    "        result.append(a[i])\n",
    "        i = j\n",
    "        occur.append(cnt)\n",
    "    return (np.array(result), np.array(occur))\n",
    "\n",
    "encode(np.array([1, 2, 2, 3, 3, 1, 1, 5, 5, 2, 3, 3]))"
   ]
  },
  {
   "cell_type": "code",
   "execution_count": null,
   "metadata": {},
   "outputs": [],
   "source": []
  }
 ],
 "metadata": {
  "kernelspec": {
   "display_name": "Python 3",
   "language": "python",
   "name": "python3"
  },
  "language_info": {
   "codemirror_mode": {
    "name": "ipython",
    "version": 3
   },
   "file_extension": ".py",
   "mimetype": "text/x-python",
   "name": "python",
   "nbconvert_exporter": "python",
   "pygments_lexer": "ipython3",
   "version": "3.8.5"
  }
 },
 "nbformat": 4,
 "nbformat_minor": 4
}
